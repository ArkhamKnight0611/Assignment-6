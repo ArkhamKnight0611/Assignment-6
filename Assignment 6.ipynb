{
 "cells": [
  {
   "cell_type": "code",
   "execution_count": 1,
   "id": "bc271757-102e-425d-b81f-5c2172b4f6e3",
   "metadata": {},
   "outputs": [],
   "source": [
    "# In Python, we use the open() method to open files.\n",
    "# Different Modes to Open a File in Python\n",
    "# Mode\tDescription\n",
    "# r\tOpen a file for reading. (default)\n",
    "# w\tOpen a file for writing. Creates a new file if it does not exist or truncates the file if it exists.\n",
    "# x\tOpen a file for exclusive creation. If the file already exists, the operation fails.\n",
    "# a\tOpen a file for appending at the end of the file without truncating it. Creates a new file if it does not exist.\n",
    "# t\tOpen in text mode. (default)\n",
    "# b\tOpen in binary mode.\n",
    "# +\tOpen a file for updating (reading and writing)"
   ]
  },
  {
   "cell_type": "code",
   "execution_count": 2,
   "id": "37848653-436a-402e-b9f2-30288a0e5ab6",
   "metadata": {},
   "outputs": [],
   "source": [
    "# We use the close() file python as we have limited resources that are being managed by the operating system.\n",
    "# Hence, closing the files properly helps to protect against hard-to-debug errors like file handles running out or experiencing corrupted data."
   ]
  },
  {
   "cell_type": "code",
   "execution_count": 3,
   "id": "6d2f0f58-c46c-4b86-a6e2-3806855b617a",
   "metadata": {},
   "outputs": [],
   "source": [
    "f=open(\"test.txt\",\"w\")"
   ]
  },
  {
   "cell_type": "code",
   "execution_count": 4,
   "id": "f0cbc910-4b0a-449c-8090-8e16d6662d80",
   "metadata": {},
   "outputs": [],
   "source": [
    "f.write(\"I want to become a Data Scientist\")\n",
    "f.close()"
   ]
  },
  {
   "cell_type": "code",
   "execution_count": 5,
   "id": "03f014b4-9597-4679-9674-cd4ae11bbed9",
   "metadata": {},
   "outputs": [],
   "source": [
    "f=open(\"test.txt\",\"r\")"
   ]
  },
  {
   "cell_type": "code",
   "execution_count": 7,
   "id": "cea20546-9cc3-4142-b243-258b675c8e85",
   "metadata": {},
   "outputs": [
    {
     "data": {
      "text/plain": [
       "'I want to become a Data Scientist'"
      ]
     },
     "execution_count": 7,
     "metadata": {},
     "output_type": "execute_result"
    }
   ],
   "source": [
    "f.read()"
   ]
  },
  {
   "cell_type": "code",
   "execution_count": 8,
   "id": "902fc97b-42f2-484d-9538-1861104df4a4",
   "metadata": {},
   "outputs": [],
   "source": [
    "#Python read()\n",
    "#The read method reads the entire contents of a file and returns it as a string.\n",
    "#Python readline()\n",
    "#The readline method reads a single line from a file and returns it as a string. \n",
    "#This means that if you use readline, you can read the contents of a file line by line, which can be useful for processing large files that do not fit in memory.\n",
    "#Python readlines()\n",
    "#The readlines method reads the entire contents of a file and returns it as a list of strings, where each element of the list is a single line of the file."
   ]
  },
  {
   "cell_type": "code",
   "execution_count": 9,
   "id": "db94a723-9820-4bac-b6d7-fb95343ef745",
   "metadata": {},
   "outputs": [],
   "source": [
    "f1=open(\"test1.txt\",\"w\")"
   ]
  },
  {
   "cell_type": "code",
   "execution_count": 10,
   "id": "3719de26-dc4e-43ad-898b-f1a68ac4d4e5",
   "metadata": {},
   "outputs": [],
   "source": [
    "f1.write(\"Python is the best programming language in the world in 2023\\n PWSkills is the biggest Ed-tech platform to learn python\\n Python programming is as easy as writing a program in simple English language \")\n",
    "f1.close()"
   ]
  },
  {
   "cell_type": "code",
   "execution_count": 11,
   "id": "4a633320-f7ce-4d34-92ae-77b5e5f16ccd",
   "metadata": {},
   "outputs": [
    {
     "name": "stdout",
     "output_type": "stream",
     "text": [
      "Python is the best programming language in the world in 2023\n",
      "\n",
      " PWSkills is t\n"
     ]
    }
   ],
   "source": [
    "file = open(\"test1.txt\", \"r\")\n",
    "print(file.readline())\n",
    "print(file.readline(14))"
   ]
  },
  {
   "cell_type": "code",
   "execution_count": 12,
   "id": "dd4a9341-0049-4e9b-a9dc-604ca42497e9",
   "metadata": {},
   "outputs": [
    {
     "name": "stdout",
     "output_type": "stream",
     "text": [
      "['Python is the best programming language in the world in 2023\\n', ' PWSkills is the biggest Ed-tech platform to learn python\\n', ' Python programming is as easy as writing a program in simple English language ']\n"
     ]
    }
   ],
   "source": [
    "file = open(\"test1.txt\", \"r\")\n",
    "print(file.readlines())"
   ]
  },
  {
   "cell_type": "code",
   "execution_count": 17,
   "id": "4f5c25a0-d16d-468f-b1da-8217a075077c",
   "metadata": {},
   "outputs": [],
   "source": [
    "# The with statement works with the open() function to open a file. Unlike open() where you have to close the file with the close() method, the with statement closes the file for you without you telling it to.\n",
    "# This is because the with statement calls 2 built-in methods behind the scene – __enter()__ and __exit()__ "
   ]
  },
  {
   "cell_type": "code",
   "execution_count": 18,
   "id": "bacd4223-3520-494c-91e3-4d23aae6d746",
   "metadata": {},
   "outputs": [],
   "source": [
    "# write() function\n",
    "# The write() function will write the content in the file without adding any extra characters.\n",
    "# writelines() function\n",
    "# This function writes the content of a list to a file."
   ]
  },
  {
   "cell_type": "code",
   "execution_count": 14,
   "id": "b8e93fda-e101-42b5-a374-b9c8ebfd9dcb",
   "metadata": {},
   "outputs": [
    {
     "name": "stdin",
     "output_type": "stream",
     "text": [
      "Enter the name of the employee:  Aayush\n",
      "Enter the name of the employee:  Anand\n",
      "Enter the name of the employee:  Harsh\n"
     ]
    }
   ],
   "source": [
    "file = open(\"emp.txt\", \"w\")\n",
    "\n",
    "for i in range(3):\n",
    "    name = input(\"Enter the name of the employee: \")\n",
    "    file.write(name)\n",
    "    file.write(\"\\n\")\n",
    "\n",
    "file.close()"
   ]
  },
  {
   "cell_type": "code",
   "execution_count": 15,
   "id": "8b02b6bb-4d02-4c35-8a4d-f5814f1f3722",
   "metadata": {},
   "outputs": [],
   "source": [
    "file1 = open(\"Employees.txt\", \"w\")\n",
    "lst = ['a', 'b', 'c']\n",
    "for i in range(3):\n",
    "    file1.writelines(lst[i])\n",
    "\n",
    "file1.close()"
   ]
  },
  {
   "cell_type": "code",
   "execution_count": 16,
   "id": "fe2f4773-def7-4ae0-86ce-a440ae9fde70",
   "metadata": {},
   "outputs": [
    {
     "name": "stdout",
     "output_type": "stream",
     "text": [
      "abc\n"
     ]
    }
   ],
   "source": [
    "file1 = open(\"Employees.txt\", \"r\")\n",
    "print(file1.read())"
   ]
  },
  {
   "cell_type": "code",
   "execution_count": null,
   "id": "6ca1f0fd-a226-4909-9ea0-6e7f59c04ca5",
   "metadata": {},
   "outputs": [],
   "source": []
  }
 ],
 "metadata": {
  "kernelspec": {
   "display_name": "Python 3 (ipykernel)",
   "language": "python",
   "name": "python3"
  },
  "language_info": {
   "codemirror_mode": {
    "name": "ipython",
    "version": 3
   },
   "file_extension": ".py",
   "mimetype": "text/x-python",
   "name": "python",
   "nbconvert_exporter": "python",
   "pygments_lexer": "ipython3",
   "version": "3.10.8"
  }
 },
 "nbformat": 4,
 "nbformat_minor": 5
}
